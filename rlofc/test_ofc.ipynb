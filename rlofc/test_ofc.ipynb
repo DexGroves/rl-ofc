{
 "cells": [
  {
   "cell_type": "code",
   "execution_count": 2,
   "metadata": {},
   "outputs": [],
   "source": [
    "from treys import Card\n"
   ]
  },
  {
   "cell_type": "code",
   "execution_count": 1,
   "metadata": {},
   "outputs": [
    {
     "ename": "FileNotFoundError",
     "evalue": "[Errno 2] No such file or directory: 'res/front_lookup.p'",
     "output_type": "error",
     "traceback": [
      "\u001b[1;31m---------------------------------------------------------------------------\u001b[0m",
      "\u001b[1;31mFileNotFoundError\u001b[0m                         Traceback (most recent call last)",
      "Cell \u001b[1;32mIn[1], line 1\u001b[0m\n\u001b[1;32m----> 1\u001b[0m \u001b[39mimport\u001b[39;00m \u001b[39mofc_evaluator\u001b[39;00m \u001b[39mas\u001b[39;00m \u001b[39meva\u001b[39;00m\n",
      "File \u001b[1;32md:\\OFCDQN\\rl-ofc\\rlofc\\ofc_evaluator.py:15\u001b[0m\n\u001b[0;32m     12\u001b[0m     \u001b[39mdef\u001b[39;00m \u001b[39mreadline\u001b[39m (\u001b[39mself\u001b[39m, size\u001b[39m=\u001b[39m\u001b[39m-\u001b[39m\u001b[39m1\u001b[39m):\n\u001b[0;32m     13\u001b[0m         \u001b[39mreturn\u001b[39;00m \u001b[39mself\u001b[39m\u001b[39m.\u001b[39mfileobj\u001b[39m.\u001b[39m readline(size)\u001b[39m.\u001b[39mencode()\n\u001b[1;32m---> 15\u001b[0m FRONT_LOOKUP \u001b[39m=\u001b[39m pickle\u001b[39m.\u001b[39mload(StrToBytes(\u001b[39mopen\u001b[39;49m(\u001b[39m\"\u001b[39;49m\u001b[39mres/front_lookup.p\u001b[39;49m\u001b[39m\"\u001b[39;49m, \u001b[39m'\u001b[39;49m\u001b[39mr\u001b[39;49m\u001b[39m'\u001b[39;49m)))\n\u001b[0;32m     17\u001b[0m \u001b[39m# FRONT_LOOKUP = pickle.load(open(\"res/front_lookup.p\"))\u001b[39;00m\n\u001b[0;32m     20\u001b[0m \u001b[39mclass\u001b[39;00m \u001b[39mOFCEvaluator\u001b[39;00m(Evaluator):\n",
      "\u001b[1;31mFileNotFoundError\u001b[0m: [Errno 2] No such file or directory: 'res/front_lookup.p'"
     ]
    }
   ],
   "source": [
    "import ofc_evaluator as eva"
   ]
  }
 ],
 "metadata": {
  "kernelspec": {
   "display_name": "Tensorflow",
   "language": "python",
   "name": "python3"
  },
  "language_info": {
   "codemirror_mode": {
    "name": "ipython",
    "version": 3
   },
   "file_extension": ".py",
   "mimetype": "text/x-python",
   "name": "python",
   "nbconvert_exporter": "python",
   "pygments_lexer": "ipython3",
   "version": "3.9.16"
  },
  "orig_nbformat": 4
 },
 "nbformat": 4,
 "nbformat_minor": 2
}
