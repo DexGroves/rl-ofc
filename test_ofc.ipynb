{
 "cells": [
  {
   "cell_type": "code",
   "execution_count": 2,
   "metadata": {},
   "outputs": [],
   "source": [
    "from treys import Card, evaluator, lookup, Deck\n",
    "from rlofc.rlofc import ofc_environment, ofc_evaluator, royalty_calculator\n",
    "import random\n",
    "import itertools"
   ]
  },
  {
   "cell_type": "code",
   "execution_count": 79,
   "metadata": {},
   "outputs": [
    {
     "name": "stdout",
     "output_type": "stream",
     "text": [
      "牌型分數: 182\n"
     ]
    }
   ],
   "source": [
    "# 建立 OFC evaluator 物件\n",
    "evaluator = ofc_evaluator.OFCEvaluator()\n",
    "\n",
    "# 測試資料\n",
    "hand = [\n",
    "    Card.new('Kh'),  # 前墩第一張牌\n",
    "    Card.new('Ks'),  # 前墩第二張牌\n",
    "    Card.new('Kc'),  # 中墩第一張牌\n",
    "    Card.new('Ts'),  # 中墩第二張牌\n",
    "    Card.new('Th'),  # 中墩第三張牌\n",
    "]\n",
    "\n",
    "# 評估牌型\n",
    "score = evaluator.evaluate([],hand)\n",
    "print(f\"牌型分數: {score}\")"
   ]
  },
  {
   "cell_type": "code",
   "execution_count": null,
   "metadata": {},
   "outputs": [],
   "source": [
    "def fantasy_evaluator(cards):\n",
    "    def evaluate_by_street(cards, num_street_cards):\n",
    "        # solve back line first\n",
    "        minimum = lookup.LookupTable.MAX_HIGH_CARD\n",
    "        i = 0\n",
    "        for combo in itertools.combinations(cards, num_street_cards):\n",
    "            if i == 0:\n",
    "                final_comb = combo\n",
    "\n",
    "            score = evaluator.evaluate([], list(combo))\n",
    "\n",
    "            if score < minimum:\n",
    "                final_comb = combo\n",
    "                minimum = score\n",
    "                print(score)\n",
    "                Card.print_pretty_cards(final_comb)\n",
    "            \n",
    "            i +=1\n",
    "\n",
    "        return minimum, final_comb\n",
    "\n",
    "    # Solve problem from front -> back - > middle    \n",
    "    ## Front Line\n",
    "    front_score, front_comb = evaluate_by_street(cards, 3)\n",
    "    \n",
    "    ## Back Line\n",
    "    back_line = list(set(cards) - set(front_comb))\n",
    "    back_score, back_comb = evaluate_by_street(back_line, 5)\n",
    "\n",
    "    ## Middle Line\n",
    "    mid_line = list(set(back_line) - set(back_comb))\n",
    "    mid_score, mid_comb = evaluate_by_street(mid_line, 5)\n",
    "    \n",
    "\n",
    "    if back_score > mid_score and mid_score > front_score:\n",
    "        print('step into fantasy zone')\n",
    "\n",
    "    else:\n",
    "        # Solve problem from back -> middle - > front\n",
    "        ## Back Line\n",
    "        back_score, back_comb = evaluate_by_street(cards, 5)\n",
    "\n",
    "        ## Middle Line\n",
    "        mid_line = list(set(cards) - set(back_comb))\n",
    "        mid_score, mid_comb = evaluate_by_street(mid_line, 5)\n",
    "\n",
    "        ## Front Line\n",
    "        mid_line = list(set(mid_line) - set(mid_comb))\n",
    "        front_score, front_comb = evaluate_by_street(cards, 3)\n",
    "        \n",
    "        \n",
    "\n",
    "        \n",
    "\n",
    "\n",
    "        \n"
   ]
  },
  {
   "cell_type": "code",
   "execution_count": 65,
   "metadata": {},
   "outputs": [],
   "source": [
    "deck = Deck()\n",
    "full_hand = deck.draw(17)"
   ]
  },
  {
   "cell_type": "code",
   "execution_count": 66,
   "metadata": {},
   "outputs": [
    {
     "name": "stdout",
     "output_type": "stream",
     "text": [
      " [5♦],[K♥],[7♠],[2♣],[5♣],[T♦],[6♥],[K♦],[T♣],[4♠],[A♣],[8♥],[Q♣],[7♦],[9♥],[J♦],[Q♦] \n"
     ]
    }
   ],
   "source": [
    "Card.print_pretty_cards(full_hand)"
   ]
  },
  {
   "cell_type": "code",
   "execution_count": 67,
   "metadata": {},
   "outputs": [
    {
     "name": "stdout",
     "output_type": "stream",
     "text": [
      "7001.889497\n",
      " [5♦],[K♥],[7♠] \n",
      "5405.889697\n",
      " [5♦],[K♥],[5♣] \n",
      "3764.888897\n",
      " [5♦],[K♥],[K♦] \n",
      "3755.888895\n",
      " [K♥],[7♠],[K♦] \n",
      "3709.888892\n",
      " [K♥],[T♦],[K♦] \n",
      "3600.878889\n",
      " [K♥],[K♦],[A♣] \n"
     ]
    }
   ],
   "source": [
    "# solve back line first\n",
    "minimum = lookup.LookupTable.MAX_HIGH_CARD\n",
    "i = 0\n",
    "\n",
    "for combo in itertools.combinations(full_hand, 3):\n",
    "    if i == 0:\n",
    "        final_comb = combo\n",
    "\n",
    "    score = evaluator.evaluate([], list(combo))\n",
    "\n",
    "    if score < minimum:\n",
    "        final_comb = combo\n",
    "        minimum = score\n",
    "        print(score)\n",
    "        Card.print_pretty_cards(final_comb)\n",
    "    \n",
    "    i +=1"
   ]
  },
  {
   "cell_type": "code",
   "execution_count": 68,
   "metadata": {},
   "outputs": [
    {
     "name": "stdout",
     "output_type": "stream",
     "text": [
      " [K♥],[K♦],[A♣] \n"
     ]
    }
   ],
   "source": [
    "Card.print_pretty_cards(final_comb)"
   ]
  },
  {
   "cell_type": "code",
   "execution_count": 69,
   "metadata": {},
   "outputs": [],
   "source": [
    "mid_line = list(set(full_hand) - set(final_comb))"
   ]
  },
  {
   "cell_type": "code",
   "execution_count": 70,
   "metadata": {},
   "outputs": [
    {
     "name": "stdout",
     "output_type": "stream",
     "text": [
      "5523\n",
      " [2♣],[4♠],[5♣],[5♦],[6♥] \n",
      "5520\n",
      " [2♣],[4♠],[5♣],[5♦],[7♠] \n",
      "5514\n",
      " [2♣],[4♠],[5♣],[5♦],[8♥] \n",
      "5504\n",
      " [2♣],[4♠],[5♣],[5♦],[9♥] \n",
      "5489\n",
      " [2♣],[4♠],[5♣],[5♦],[T♣] \n",
      "5468\n",
      " [2♣],[4♠],[5♣],[5♦],[J♦] \n",
      "5440\n",
      " [2♣],[4♠],[5♣],[5♦],[Q♦] \n",
      "5083\n",
      " [2♣],[4♠],[5♣],[7♠],[7♦] \n",
      "4423\n",
      " [2♣],[4♠],[5♣],[T♣],[T♦] \n",
      "3983\n",
      " [2♣],[4♠],[5♣],[Q♦],[Q♣] \n",
      "3980\n",
      " [2♣],[4♠],[6♥],[Q♦],[Q♣] \n",
      "3974\n",
      " [2♣],[4♠],[7♠],[Q♦],[Q♣] \n",
      "3964\n",
      " [2♣],[4♠],[8♥],[Q♦],[Q♣] \n",
      "3949\n",
      " [2♣],[4♠],[9♥],[Q♦],[Q♣] \n",
      "3928\n",
      " [2♣],[4♠],[T♣],[Q♦],[Q♣] \n",
      "3900\n",
      " [2♣],[4♠],[J♦],[Q♦],[Q♣] \n",
      "3182\n",
      " [2♣],[5♣],[5♦],[7♠],[7♦] \n",
      "2984\n",
      " [2♣],[5♣],[5♦],[T♣],[T♦] \n",
      "2797\n",
      " [2♣],[5♣],[5♦],[Q♦],[Q♣] \n",
      "2775\n",
      " [2♣],[7♠],[7♦],[Q♦],[Q♣] \n",
      "2742\n",
      " [2♣],[T♣],[T♦],[Q♦],[Q♣] \n",
      "1606\n",
      " [4♠],[5♣],[6♥],[7♠],[8♥] \n",
      "1605\n",
      " [5♣],[6♥],[7♠],[8♥],[9♥] \n",
      "1158\n",
      " [5♦],[7♦],[T♦],[J♦],[Q♦] \n"
     ]
    }
   ],
   "source": [
    "# solve back line first\n",
    "minimum = lookup.LookupTable.MAX_HIGH_CARD\n",
    "i = 0\n",
    "\n",
    "for combo in itertools.combinations(mid_line, 5):\n",
    "    if i == 0:\n",
    "        final_comb = combo\n",
    "\n",
    "    score = evaluator.evaluate([], list(combo))\n",
    "\n",
    "    if score < minimum:\n",
    "        final_comb = combo\n",
    "        minimum = score\n",
    "        print(score)\n",
    "        Card.print_pretty_cards(final_comb)\n",
    "    \n",
    "    i +=1"
   ]
  },
  {
   "cell_type": "code",
   "execution_count": 75,
   "metadata": {},
   "outputs": [],
   "source": [
    "back_line = list(set(mid_line) - set(final_comb))"
   ]
  },
  {
   "cell_type": "code",
   "execution_count": 76,
   "metadata": {},
   "outputs": [
    {
     "name": "stdout",
     "output_type": "stream",
     "text": [
      "7459\n",
      " [2♣],[4♠],[5♣],[6♥],[7♠] \n",
      "7455\n",
      " [2♣],[4♠],[5♣],[6♥],[8♥] \n",
      "7441\n",
      " [2♣],[4♠],[5♣],[6♥],[9♥] \n",
      "7407\n",
      " [2♣],[4♠],[5♣],[6♥],[T♣] \n",
      "7213\n",
      " [2♣],[4♠],[5♣],[6♥],[Q♣] \n",
      "7209\n",
      " [2♣],[4♠],[5♣],[7♠],[Q♣] \n",
      "7199\n",
      " [2♣],[4♠],[5♣],[8♥],[Q♣] \n",
      "7179\n",
      " [2♣],[4♠],[5♣],[9♥],[Q♣] \n",
      "7144\n",
      " [2♣],[4♠],[5♣],[T♣],[Q♣] \n",
      "7141\n",
      " [2♣],[4♠],[6♥],[T♣],[Q♣] \n",
      "7135\n",
      " [2♣],[4♠],[7♠],[T♣],[Q♣] \n",
      "7125\n",
      " [2♣],[4♠],[8♥],[T♣],[Q♣] \n",
      "7110\n",
      " [2♣],[4♠],[9♥],[T♣],[Q♣] \n",
      "7108\n",
      " [2♣],[5♣],[9♥],[T♣],[Q♣] \n",
      "7105\n",
      " [2♣],[6♥],[9♥],[T♣],[Q♣] \n",
      "7101\n",
      " [2♣],[7♠],[9♥],[T♣],[Q♣] \n",
      "7096\n",
      " [2♣],[8♥],[9♥],[T♣],[Q♣] \n",
      "1606\n",
      " [4♠],[5♣],[6♥],[7♠],[8♥] \n",
      "1605\n",
      " [5♣],[6♥],[7♠],[8♥],[9♥] \n",
      "1604\n",
      " [6♥],[7♠],[8♥],[9♥],[T♣] \n"
     ]
    }
   ],
   "source": [
    "# solve back line first\n",
    "minimum = lookup.LookupTable.MAX_HIGH_CARD\n",
    "i = 0\n",
    "\n",
    "for combo in itertools.combinations(back_line, 5):\n",
    "    if i == 0:\n",
    "        final_comb = combo\n",
    "\n",
    "    score = evaluator.evaluate([], list(combo))\n",
    "\n",
    "    if score < minimum:\n",
    "        final_comb = combo\n",
    "        minimum = score\n",
    "        print(score)\n",
    "        Card.print_pretty_cards(final_comb)\n",
    "    \n",
    "    i +=1"
   ]
  },
  {
   "attachments": {},
   "cell_type": "markdown",
   "metadata": {},
   "source": [
    "## 測試ofc environment\n"
   ]
  },
  {
   "cell_type": "code",
   "execution_count": 1,
   "metadata": {},
   "outputs": [
    {
     "ename": "NameError",
     "evalue": "name 'ofc_environment' is not defined",
     "output_type": "error",
     "traceback": [
      "\u001b[1;31m---------------------------------------------------------------------------\u001b[0m",
      "\u001b[1;31mNameError\u001b[0m                                 Traceback (most recent call last)",
      "Cell \u001b[1;32mIn[1], line 1\u001b[0m\n\u001b[1;32m----> 1\u001b[0m env \u001b[39m=\u001b[39m ofc_environment\u001b[39m.\u001b[39mOFCEnv([])\n\u001b[0;32m      2\u001b[0m my_board, oppo_board, cur_card, cards, game_over, score \u001b[39m=\u001b[39m env\u001b[39m.\u001b[39mobserve()\n\u001b[0;32m      3\u001b[0m \u001b[39mwhile\u001b[39;00m \u001b[39mnot\u001b[39;00m game_over:\n",
      "\u001b[1;31mNameError\u001b[0m: name 'ofc_environment' is not defined"
     ]
    }
   ],
   "source": [
    "env = ofc_environment.OFCEnv([])\n",
    "my_board, oppo_board, cur_card, cards, game_over, score = env.observe()\n",
    "while not game_over:\n",
    "    decision = random.choice(my_board.get_free_street_indices())\n",
    "    env.step(decision)\n",
    "    my_board, oppo_board, cur_card, cards, game_over, score = env.observe()"
   ]
  },
  {
   "cell_type": "code",
   "execution_count": 3,
   "metadata": {},
   "outputs": [
    {
     "name": "stdout",
     "output_type": "stream",
     "text": [
      "Front:\n",
      " \n",
      "Mid:\n",
      " \n",
      "Back:\n",
      " \n",
      "Front:\n",
      " \n",
      "Mid:\n",
      " \n",
      "Back:\n",
      " \n"
     ]
    },
    {
     "data": {
      "text/plain": [
       "(None, None)"
      ]
     },
     "execution_count": 3,
     "metadata": {},
     "output_type": "execute_result"
    }
   ],
   "source": [
    "env = ofc_environment.OFCEnv([])\n",
    "my_board, oppo_board, cur_card, cards, game_over, score = env.observe()\n",
    "# while not game_over:\n",
    "# decision = random.choice(my_board.get_free_street_indices())\n",
    "# env.step(decision)\n",
    "# my_board, oppo_board, cur_card, cards, game_over, score = env.observe()\n",
    "my_board.pretty(), oppo_board.pretty()"
   ]
  },
  {
   "cell_type": "code",
   "execution_count": 12,
   "metadata": {},
   "outputs": [
    {
     "name": "stdout",
     "output_type": "stream",
     "text": [
      "['Th']\n",
      "Front:\n",
      " [Q♣],[K♦],[Q♠] \n",
      "Mid:\n",
      " [T♠],[8♠] \n",
      "Back:\n",
      " [A♦],[7♦],[8♥],[4♠] \n",
      "Front:\n",
      " [7♣],[4♦],[4♣] \n",
      "Mid:\n",
      " [K♠],[9♣],[3♥],[T♥] \n",
      "Back:\n",
      " [A♣],[2♠] \n"
     ]
    },
    {
     "data": {
      "text/plain": [
       "(None, None)"
      ]
     },
     "execution_count": 12,
     "metadata": {},
     "output_type": "execute_result"
    }
   ],
   "source": [
    "decision = random.choice(my_board.get_free_street_indices())\n",
    "env.step(decision)\n",
    "my_board, oppo_board, cur_card, cards, game_over, score = env.observe()\n",
    "my_board.pretty(), oppo_board.pretty()"
   ]
  },
  {
   "cell_type": "code",
   "execution_count": 28,
   "metadata": {},
   "outputs": [],
   "source": [
    "from rlofc.rlofc import deck_generator\n",
    "deck = deck_generator.DeckGenerator.new_deck()"
   ]
  },
  {
   "cell_type": "code",
   "execution_count": 29,
   "metadata": {},
   "outputs": [
    {
     "data": {
      "text/plain": [
       "52"
      ]
     },
     "execution_count": 29,
     "metadata": {},
     "output_type": "execute_result"
    }
   ],
   "source": [
    "len(deck)"
   ]
  },
  {
   "cell_type": "code",
   "execution_count": 30,
   "metadata": {},
   "outputs": [
    {
     "data": {
      "text/plain": [
       "(['5d', '4h', '5s', 'Qd', '9d'],\n",
       " ['7d', '2h', '2d', 'Kh', 'Ks'],\n",
       " ['4c', '2c', 'As'])"
      ]
     },
     "execution_count": 30,
     "metadata": {},
     "output_type": "execute_result"
    }
   ],
   "source": [
    "deck[0:5], deck[5:10], deck[10:13]"
   ]
  },
  {
   "cell_type": "code",
   "execution_count": 32,
   "metadata": {},
   "outputs": [],
   "source": [
    "import numpy as np "
   ]
  },
  {
   "cell_type": "code",
   "execution_count": 43,
   "metadata": {},
   "outputs": [
    {
     "data": {
      "text/plain": [
       "array(['3h', 'Kd', 'Qc', '4d', '2s', '8s'], dtype='<U2')"
      ]
     },
     "execution_count": 43,
     "metadata": {},
     "output_type": "execute_result"
    }
   ],
   "source": [
    "np.random.choice(deck[13:], 6)"
   ]
  },
  {
   "cell_type": "code",
   "execution_count": 45,
   "metadata": {},
   "outputs": [
    {
     "data": {
      "text/plain": [
       "['Jh', '4d', '9s', '3d', '6c', '8h']"
      ]
     },
     "execution_count": 45,
     "metadata": {},
     "output_type": "execute_result"
    }
   ],
   "source": [
    "random.choices(deck[13:], k = 6)"
   ]
  }
 ],
 "metadata": {
  "kernelspec": {
   "display_name": "Tensorflow",
   "language": "python",
   "name": "python3"
  },
  "language_info": {
   "codemirror_mode": {
    "name": "ipython",
    "version": 3
   },
   "file_extension": ".py",
   "mimetype": "text/x-python",
   "name": "python",
   "nbconvert_exporter": "python",
   "pygments_lexer": "ipython3",
   "version": "3.9.16"
  },
  "orig_nbformat": 4
 },
 "nbformat": 4,
 "nbformat_minor": 2
}
